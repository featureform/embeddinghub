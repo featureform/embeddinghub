{
 "cells": [
  {
   "attachments": {},
   "cell_type": "markdown",
   "metadata": {
    "id": "D__IZAeRGArs"
   },
   "source": [
    "**Install Featureform**\n"
   ]
  },
  {
   "cell_type": "code",
   "execution_count": null,
   "metadata": {
    "id": "Skgi0UR2zhlv"
   },
   "outputs": [],
   "source": [
    "!pip3 install featureform\n",
    "import featureform as ff"
   ]
  },
  {
   "attachments": {},
   "cell_type": "markdown",
   "metadata": {},
   "source": [
    "**Get Run Variant**"
   ]
  },
  {
   "cell_type": "code",
   "execution_count": null,
   "metadata": {},
   "outputs": [],
   "source": [
    "run_variant = ff.get_run()"
   ]
  },
  {
   "attachments": {},
   "cell_type": "markdown",
   "metadata": {
    "id": "yzNIWNM7R95s"
   },
   "source": [
    "**Download and register transaction file**"
   ]
  },
  {
   "cell_type": "code",
   "execution_count": null,
   "metadata": {
    "id": "Ag_6Jo4W0ojD"
   },
   "outputs": [],
   "source": [
    "import requests\n",
    "url = \"https://featureform-demo-files.s3.amazonaws.com/transactions.csv\"\n",
    "r = requests.get(url)\n",
    "open(\"transactions.csv\" , 'wb').write(r.content)\n"
   ]
  },
  {
   "cell_type": "code",
   "execution_count": null,
   "metadata": {
    "id": "SCWvs_W9dru5"
   },
   "outputs": [],
   "source": [
    "from featureform import local\n",
    "\n",
    "transactions = local.register_file(\n",
    "    name=\"transactions\",\n",
    "    description=\"A dataset of fraudulent transactions\",\n",
    "    path=\"transactions.csv\"\n",
    ")\n",
    "df = transactions.pandas()\n",
    "df.head()"
   ]
  },
  {
   "attachments": {},
   "cell_type": "markdown",
   "metadata": {
    "id": "y_9MPoD836vR"
   },
   "source": [
    "**Define and test a few transformations**"
   ]
  },
  {
   "cell_type": "code",
   "execution_count": null,
   "metadata": {
    "id": "qut7Rb02fnMm"
   },
   "outputs": [],
   "source": [
    "@local.df_transformation(inputs=[transactions])\n",
    "def average_user_transaction(transactions):\n",
    "    return transactions.groupby(\"CustomerID\")[\"TransactionAmount\"].mean()\n",
    "\n",
    "avg = average_user_transaction(df)\n",
    "avg.head()"
   ]
  },
  {
   "cell_type": "code",
   "execution_count": null,
   "metadata": {
    "id": "NlVEeJAbevP0"
   },
   "outputs": [],
   "source": [
    "avg.plot(kind=\"hist\")"
   ]
  },
  {
   "cell_type": "code",
   "execution_count": null,
   "metadata": {
    "id": "VrVIso_kfL4E"
   },
   "outputs": [],
   "source": [
    "@local.df_transformation(variant=\"clipped\",\n",
    "                         inputs=[average_user_transaction])\n",
    "def average_user_transaction(transactions):\n",
    "    max = transactions.mean() + 2 * transactions.std()\n",
    "    return transactions.clip(lower=0, upper=max)\n",
    "\n",
    "average_user_transaction(avg).plot(kind=\"hist\")"
   ]
  },
  {
   "attachments": {},
   "cell_type": "markdown",
   "metadata": {
    "id": "d7hoRoiQpKWI"
   },
   "source": [
    "**Registering resources (Entity, feature, label)**"
   ]
  },
  {
   "cell_type": "code",
   "execution_count": null,
   "metadata": {
    "id": "Zwc1nlXnybO_"
   },
   "outputs": [],
   "source": [
    "user = ff.register_entity(\"user\")\n",
    "# Register a column from our transformation as a feature\n",
    "average_user_transaction.register_resources(\n",
    "    entity=user,\n",
    "    entity_column=\"CustomerID\",\n",
    "    inference_store=local,\n",
    "    features=[\n",
    "        {\"name\": \"avg_transactions\", \"column\": \"TransactionAmount\", \"type\": \"float32\"},\n",
    "    ],\n",
    ")\n",
    "\n",
    "# Register a label from our base Transactions table\n",
    "transactions.register_resources(\n",
    "    entity=user,\n",
    "    entity_column=\"CustomerID\",\n",
    "    labels=[\n",
    "        {\"name\": \"fraudulent\", \"column\": \"IsFraud\", \"type\": \"bool\"},\n",
    "    ],\n",
    ")"
   ]
  },
  {
   "attachments": {},
   "cell_type": "markdown",
   "metadata": {
    "id": "A7NDURrD8jZx"
   },
   "source": [
    "**Registering training set**"
   ]
  },
  {
   "cell_type": "code",
   "execution_count": null,
   "metadata": {
    "id": "Yo3_bveVygVV"
   },
   "outputs": [],
   "source": [
    "ff.register_training_set(\n",
    "    \"fraud_training\",\n",
    "    label=\"fraudulent\",\n",
    "    features=[\"avg_transactions\"],\n",
    ")\n"
   ]
  },
  {
   "attachments": {},
   "cell_type": "markdown",
   "metadata": {
    "id": "f8e4xZ6Na9C-"
   },
   "source": [
    "**Apply our definitions**"
   ]
  },
  {
   "cell_type": "code",
   "execution_count": null,
   "metadata": {
    "id": "cnDdAovca6WR"
   },
   "outputs": [],
   "source": [
    "client = ff.ResourceClient(local=True)\n",
    "client.apply()"
   ]
  },
  {
   "attachments": {},
   "cell_type": "markdown",
   "metadata": {
    "id": "qbptM7O4yTYA"
   },
   "source": [
    "**Train a Model**"
   ]
  },
  {
   "cell_type": "code",
   "execution_count": null,
   "metadata": {
    "id": "uTr7vzZrMYzv"
   },
   "outputs": [],
   "source": [
    "serving = ff.Client(local=True)\n",
    "dataset = serving.training_set(\"fraud_training\", run_variant)\n",
    "training_dataset = dataset.repeat(1).shuffle(1000).batch(12)"
   ]
  },
  {
   "cell_type": "code",
   "execution_count": null,
   "metadata": {
    "id": "tJjc2pYpNJhs"
   },
   "outputs": [],
   "source": [
    "from sklearn.linear_model import SGDClassifier\n",
    "\n",
    "classifier = SGDClassifier(loss='log_loss')\n",
    "for batch in training_dataset:\n",
    "  classifier.partial_fit(batch.features(), batch.label(), [True, False])\n",
    "\n",
    "# Get one batch of training data as sample test data\n",
    "# Make a test prediction\n",
    "classifier.predict(batch.features())\n"
   ]
  },
  {
   "cell_type": "code",
   "execution_count": null,
   "metadata": {},
   "outputs": [],
   "source": []
  }
 ],
 "metadata": {
  "colab": {
   "collapsed_sections": [],
   "provenance": []
  },
  "kernelspec": {
   "display_name": "Python 3",
   "name": "python3"
  },
  "language_info": {
   "codemirror_mode": {
    "name": "ipython",
    "version": 3
   },
   "file_extension": ".py",
   "mimetype": "text/x-python",
   "name": "python",
   "nbconvert_exporter": "python",
   "pygments_lexer": "ipython3",
   "version": "3.8.13"
  }
 },
 "nbformat": 4,
 "nbformat_minor": 1
}
