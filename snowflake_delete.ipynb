{
 "cells": [
  {
   "cell_type": "code",
   "execution_count": 1,
   "id": "14a1c5ef-818f-4202-8356-28f697d5af90",
   "metadata": {},
   "outputs": [],
   "source": [
    "\n",
    "import os\n",
    "\n",
    "\n",
    "import featureform as ff\n",
    "from dotenv import load_dotenv\n",
    "\n",
    "\n",
    "load_dotenv()\n",
    "\n",
    "debug = False\n",
    "client = ff.Client(host=\"localhost:7878\", insecure=True, debug=debug)\n",
    "# client = ff.Client(host=\"internal-sandbox2.featureform.com\")"
   ]
  },
  {
   "cell_type": "code",
   "execution_count": 2,
   "id": "a7686008-a18e-459c-aca5-2d4a8885a5ce",
   "metadata": {},
   "outputs": [
    {
     "name": "stdout",
     "output_type": "stream",
     "text": [
      "Applying Run: 2025-01-18t17-47-00\n",
      "Creating User default_owner \n"
     ]
    },
    {
     "data": {
      "application/vnd.jupyter.widget-view+json": {
       "model_id": "52fd80d2965b444fb64ba13ee355db0a",
       "version_major": 2,
       "version_minor": 0
      },
      "text/plain": [
       "Output()"
      ]
     },
     "metadata": {},
     "output_type": "display_data"
    },
    {
     "name": "stdout",
     "output_type": "stream",
     "text": [
      "Creating Provider redis-quickswtart3 \n",
      "\n"
     ]
    },
    {
     "data": {
      "text/html": [
       "<pre style=\"white-space:pre;overflow-x:auto;line-height:normal;font-family:Menlo,'DejaVu Sans Mono',consolas,'Courier New',monospace\"></pre>\n"
      ],
      "text/plain": []
     },
     "metadata": {},
     "output_type": "display_data"
    }
   ],
   "source": [
    "redis = ff.register_redis(\n",
    "    name=\"redis-quickswtart3\",\n",
    "    host=\"localhost\",  # The internal dns name for redis\n",
    "    port=6379,\n",
    "    description=\"A Redis deployment we created for the Featureform quickstart\",\n",
    ")\n",
    "\n",
    "client.apply()"
   ]
  },
  {
   "cell_type": "code",
   "execution_count": 3,
   "id": "3af66ec2-76bc-4bf4-9695-68e61556e209",
   "metadata": {},
   "outputs": [
    {
     "name": "stdout",
     "output_type": "stream",
     "text": [
      "Applying Run: 2025-01-18t17-47-03\n",
      "Creating Provider hi332 \n"
     ]
    },
    {
     "data": {
      "application/vnd.jupyter.widget-view+json": {
       "model_id": "11302dfaafaa4eb2a97a7b000849b2a8",
       "version_major": 2,
       "version_minor": 0
      },
      "text/plain": [
       "Output()"
      ]
     },
     "metadata": {},
     "output_type": "display_data"
    },
    {
     "name": "stdout",
     "output_type": "stream",
     "text": [
      "\n"
     ]
    },
    {
     "data": {
      "text/html": [
       "<pre style=\"white-space:pre;overflow-x:auto;line-height:normal;font-family:Menlo,'DejaVu Sans Mono',consolas,'Courier New',monospace\"></pre>\n"
      ],
      "text/plain": []
     },
     "metadata": {},
     "output_type": "display_data"
    }
   ],
   "source": [
    "snow = ff.register_snowflake(\n",
    "    name=\"hi332\",\n",
    "    username=os.getenv(\"SNOWFLAKE_USERNAME\"),\n",
    "    password=os.getenv(\"SNOWFLAKE_PASSWORD\"),\n",
    "    account=os.getenv(\"SNOWFLAKE_ACCOUNT\"),\n",
    "    organization=os.getenv(\"SNOWFLAKE_ORG\"),\n",
    "    database=\"DEMO\",\n",
    "    schema=\"ALI\",\n",
    "    warehouse=\"COMPUTE_WH\",\n",
    "    catalog=ff.SnowflakeCatalog(\n",
    "        external_volume=\"iceberg_external_volume\",\n",
    "        base_location=\"impl_test\",\n",
    "        table_config=ff.SnowflakeDynamicTableConfig(\n",
    "            # target_lag='1 hours',\n",
    "            target_lag='DOWNSTREAM',\n",
    "            refresh_mode=ff.RefreshMode.AUTO,\n",
    "            initialize=ff.Initialize.ON_CREATE,\n",
    "        ),\n",
    "    )\n",
    ")\n",
    "client.apply()"
   ]
  },
  {
   "cell_type": "code",
   "execution_count": 4,
   "id": "0e37eaee-090f-4ddf-9e28-a896ac364e4c",
   "metadata": {},
   "outputs": [],
   "source": [
    "# type(snow)"
   ]
  },
  {
   "cell_type": "code",
   "execution_count": 5,
   "id": "1b8a3840-be23-47d6-87c1-a8ce921716bc",
   "metadata": {},
   "outputs": [],
   "source": [
    "# client.delete(snow)"
   ]
  },
  {
   "cell_type": "code",
   "execution_count": 6,
   "id": "c955ef48-01bc-47ef-8454-c703320f8801",
   "metadata": {},
   "outputs": [],
   "source": [
    "# from featureform import OfflineProvider\n",
    "\n",
    "# isinstance(snow, OfflineProvider)"
   ]
  },
  {
   "cell_type": "code",
   "execution_count": 7,
   "id": "eecfa617-a3ab-47bd-ba0e-2ee86b5ee8dc",
   "metadata": {},
   "outputs": [],
   "source": [
    "# client.delete(snow)"
   ]
  },
  {
   "cell_type": "code",
   "execution_count": 8,
   "id": "3d4ac999-6ff9-475b-9408-d730cff97cfe",
   "metadata": {
    "scrolled": true
   },
   "outputs": [
    {
     "name": "stdout",
     "output_type": "stream",
     "text": [
      "Applying Run: 2025-01-18t17-47-07\n",
      "Creating Source Variant tblll 2025-01-18t17-47-07\n"
     ]
    },
    {
     "data": {
      "application/vnd.jupyter.widget-view+json": {
       "model_id": "ad8ef9fb01974e228473feadf46fc54d",
       "version_major": 2,
       "version_minor": 0
      },
      "text/plain": [
       "Output()"
      ]
     },
     "metadata": {},
     "output_type": "display_data"
    },
    {
     "name": "stdout",
     "output_type": "stream",
     "text": [
      "\n"
     ]
    },
    {
     "data": {
      "text/html": [
       "<pre style=\"white-space:pre;overflow-x:auto;line-height:normal;font-family:Menlo,'DejaVu Sans Mono',consolas,'Courier New',monospace\"></pre>\n"
      ],
      "text/plain": []
     },
     "metadata": {},
     "output_type": "display_data"
    }
   ],
   "source": [
    "trx = snow.register_table(name=\"tblll\", table=\"TRANACTIONZ\", database=\"DEMO\", schema=\"ALI\")\n",
    "\n",
    "client.apply()"
   ]
  },
  {
   "cell_type": "code",
   "execution_count": 9,
   "id": "c82a9155-ba19-467e-a7fc-e05d58d0d108",
   "metadata": {},
   "outputs": [],
   "source": [
    "# client.delete(trx)"
   ]
  },
  {
   "cell_type": "code",
   "execution_count": 10,
   "id": "d218af17-9656-4939-b756-83103eb26166",
   "metadata": {},
   "outputs": [],
   "source": [
    "# type(trx)"
   ]
  },
  {
   "cell_type": "code",
   "execution_count": 11,
   "id": "3cc9a2de-27e9-480d-adcd-3fbc262ca4bf",
   "metadata": {},
   "outputs": [],
   "source": [
    "# client.delete(trx)"
   ]
  },
  {
   "cell_type": "code",
   "execution_count": 12,
   "id": "55b854e9-d594-45f3-a813-f76547a2c89e",
   "metadata": {},
   "outputs": [
    {
     "data": {
      "application/vnd.jupyter.widget-view+json": {
       "model_id": "d3f6479dda8145c8b06cfacc64d01c71",
       "version_major": 2,
       "version_minor": 0
      },
      "text/plain": [
       "Output()"
      ]
     },
     "metadata": {},
     "output_type": "display_data"
    },
    {
     "name": "stdout",
     "output_type": "stream",
     "text": [
      "Applying Run: 2025-01-18t17-47-13\n",
      "Creating Source Variant label_transactionz2 2025-01-18t17-47-13\n",
      "\n"
     ]
    },
    {
     "data": {
      "text/html": [
       "<pre style=\"white-space:pre;overflow-x:auto;line-height:normal;font-family:Menlo,'DejaVu Sans Mono',consolas,'Courier New',monospace\"></pre>\n"
      ],
      "text/plain": []
     },
     "metadata": {},
     "output_type": "display_data"
    }
   ],
   "source": [
    "@snow.sql_transformation(inputs=[trx])\n",
    "def label_transactionz2(tbl):\n",
    "    return \"SELECT customerid, isfraud, CAST(timestamp AS TIMESTAMP_NTZ(6)) AS timestamp FROM {{tbl}}\"\n",
    "\n",
    "client.apply()"
   ]
  },
  {
   "cell_type": "code",
   "execution_count": 13,
   "id": "4f5b4e4e-f6e0-421c-aeea-8c65eac4e217",
   "metadata": {},
   "outputs": [
    {
     "data": {
      "application/vnd.jupyter.widget-view+json": {
       "model_id": "e08c5007dd2b4e6f8120126006302df9",
       "version_major": 2,
       "version_minor": 0
      },
      "text/plain": [
       "Output()"
      ]
     },
     "metadata": {},
     "output_type": "display_data"
    },
    {
     "name": "stdout",
     "output_type": "stream",
     "text": [
      "Applying Run: 2025-01-18t17-47-24\n",
      "Creating Source Variant avg_daily_user_transaction2 2025-01-18t17-47-24\n",
      "\n"
     ]
    },
    {
     "data": {
      "text/html": [
       "<pre style=\"white-space:pre;overflow-x:auto;line-height:normal;font-family:Menlo,'DejaVu Sans Mono',consolas,'Courier New',monospace\"></pre>\n"
      ],
      "text/plain": []
     },
     "metadata": {},
     "output_type": "display_data"
    }
   ],
   "source": [
    "@snow.sql_transformation(inputs=[trx])\n",
    "def avg_daily_user_transaction2(tbl):\n",
    "    return \"SELECT CustomerID AS user_id, avg(TransactionAmount) \" \\\n",
    "           \"AS avg_transaction_amt, CAST(timestamp AS TIMESTAMP_NTZ(6)) AS processed_on FROM {{tbl}} GROUP BY user_id, processed_on\"\n",
    "\n",
    "client.apply()"
   ]
  },
  {
   "cell_type": "code",
   "execution_count": 14,
   "id": "a22a777c-5fc9-4cc3-93ad-76834cef6257",
   "metadata": {},
   "outputs": [],
   "source": [
    "# client.delete(avg_daily_user_transaction3)"
   ]
  },
  {
   "cell_type": "code",
   "execution_count": 19,
   "id": "10767b38-8b17-4124-afdd-2a7e9695db91",
   "metadata": {},
   "outputs": [
    {
     "data": {
      "application/vnd.jupyter.widget-view+json": {
       "model_id": "0e7e7b7ecaf4441bb51b946d18651c0c",
       "version_major": 2,
       "version_minor": 0
      },
      "text/plain": [
       "Output()"
      ]
     },
     "metadata": {},
     "output_type": "display_data"
    },
    {
     "name": "stdout",
     "output_type": "stream",
     "text": [
      "Applying Run: 2025-01-18t17-47-51\n",
      "Creating Entity user \n",
      "Creating Feature Variant alif2 2025-01-18t17-47-51\n",
      "Looks like an equivalent feature variant already exists, going to use its variant:  2025-01-18t17-47-32\n",
      "Creating Label Variant fraudulent 2025-01-18t17-47-51\n",
      "\n"
     ]
    },
    {
     "data": {
      "text/html": [
       "<pre style=\"white-space:pre;overflow-x:auto;line-height:normal;font-family:Menlo,'DejaVu Sans Mono',consolas,'Courier New',monospace\"></pre>\n"
      ],
      "text/plain": []
     },
     "metadata": {},
     "output_type": "display_data"
    }
   ],
   "source": [
    "@ff.entity\n",
    "class User:\n",
    "    alif2 = ff.Feature(\n",
    "        avg_daily_user_transaction2[[\"user_id\", \"avg_transaction_amt\", \"processed_on\"]],\n",
    "        type=ff.Float32,\n",
    "        inference_store=redis,\n",
    "    )\n",
    "    # fraudulent = ff.Label(\n",
    "    #     label_transactions[[\"customerid\", \"isfraud\", \"timestamp\"]], type=ff.Bool\n",
    "    # )\n",
    "    fraudulent = ff.Label(\n",
    "        label_transactionz2[[\"customerid\", \"isfraud\", \"timestamp\"]], type=ff.Bool\n",
    "    )\n",
    "\n",
    "client.apply()"
   ]
  },
  {
   "cell_type": "code",
   "execution_count": 16,
   "id": "f971788d-48c8-485d-8ab3-26704402480a",
   "metadata": {},
   "outputs": [],
   "source": [
    "# type(label_transactionz)"
   ]
  },
  {
   "cell_type": "code",
   "execution_count": 17,
   "id": "85377446-34cb-4b2c-80f2-0f5c43a5defd",
   "metadata": {},
   "outputs": [
    {
     "name": "stdout",
     "output_type": "stream",
     "text": [
      "Deleting resource async\n"
     ]
    }
   ],
   "source": [
    "# client.delete(User.fraudulent)"
   ]
  },
  {
   "cell_type": "code",
   "execution_count": 20,
   "id": "c0c92cbe-ba6a-4dbb-bd8d-7949a5013c59",
   "metadata": {
    "scrolled": true
   },
   "outputs": [
    {
     "name": "stdout",
     "output_type": "stream",
     "text": [
      "Applying Run: 2025-01-18t17-48-13\n",
      "Creating Trainingset Variant 666555999 2025-01-18t17-48-13\n"
     ]
    },
    {
     "data": {
      "application/vnd.jupyter.widget-view+json": {
       "model_id": "503d9a94062f464ca7dce436c0a01d44",
       "version_major": 2,
       "version_minor": 0
      },
      "text/plain": [
       "Output()"
      ]
     },
     "metadata": {},
     "output_type": "display_data"
    },
    {
     "name": "stdout",
     "output_type": "stream",
     "text": [
      "\n"
     ]
    },
    {
     "data": {
      "text/html": [
       "<pre style=\"white-space:pre;overflow-x:auto;line-height:normal;font-family:Menlo,'DejaVu Sans Mono',consolas,'Courier New',monospace\"></pre>\n"
      ],
      "text/plain": []
     },
     "metadata": {},
     "output_type": "display_data"
    }
   ],
   "source": [
    "ts = ff.register_training_set(\"666555999\", label=User.fraudulent, features=[User.alif2])\n",
    "\n",
    "client.apply()"
   ]
  },
  {
   "cell_type": "code",
   "execution_count": null,
   "id": "64359244-3760-4d03-a98b-a02395df7468",
   "metadata": {},
   "outputs": [],
   "source": [
    "# client.prune(avg_daily_user_transaction2)"
   ]
  },
  {
   "cell_type": "code",
   "execution_count": 21,
   "id": "7f35626a-8a06-49c0-80fe-92bffc7c35a5",
   "metadata": {},
   "outputs": [
    {
     "name": "stdout",
     "output_type": "stream",
     "text": [
      "Deleting resource async\n"
     ]
    }
   ],
   "source": [
    "client.delete(ts)"
   ]
  },
  {
   "cell_type": "code",
   "execution_count": null,
   "id": "523f9c3b-088e-4b76-b043-7db9b694d8d7",
   "metadata": {},
   "outputs": [],
   "source": [
    "# client.delete(ts)"
   ]
  },
  {
   "cell_type": "code",
   "execution_count": null,
   "id": "dd2540fa-cc0a-4c81-8309-79486f4018cc",
   "metadata": {},
   "outputs": [],
   "source": [
    "@snow.sql_transformation(inputs=[trx])\n",
    "def myfirsttfagain235(tbl):\n",
    "    return \"\"\"\n",
    "    SELECT customerid, isfraud, CAST(timestamp AS TIMESTAMP_NTZ(6)) AS timestamp FROM {{tbl}}\n",
    "    \"\"\"\n",
    "client.apply()"
   ]
  },
  {
   "cell_type": "code",
   "execution_count": null,
   "id": "be6893a1-19a6-4e82-a068-fa2893dbad5e",
   "metadata": {},
   "outputs": [],
   "source": [
    "@snow.sql_transformation(inputs=[myfirsttfagain24])\n",
    "def alitfsnow5(tbl):\n",
    "    return \"\"\"\n",
    "    SELECT customerid, isfraud, CAST(timestamp AS TIMESTAMP_NTZ(6)) AS timestamp FROM {{tbl}}\n",
    "    \"\"\"\n",
    "client.apply()"
   ]
  },
  {
   "cell_type": "code",
   "execution_count": null,
   "id": "1aab56f7-ba97-4226-bc7a-38d253d929d5",
   "metadata": {},
   "outputs": [],
   "source": [
    "from featureform import ResourceType\n",
    "\n",
    "client.delete('myfirsttfagain24', '2024-12-19t16-45-59', ResourceType.TRANSFORMATION)"
   ]
  },
  {
   "cell_type": "code",
   "execution_count": null,
   "id": "8ca274df-ae28-4565-a4f7-a46a961a22e4",
   "metadata": {},
   "outputs": [],
   "source": [
    "@ff.entity\n",
    "class User:\n",
    "    f_trx = ff.Feature(\n",
    "        trx[\n",
    "            [\"CUSTOMERID\", \"CUSTACCOUNTBALANCE\", \"TIMESTAMP\"]\n",
    "        ],  # We can optional include the `timestamp_column` \"timestamp\" here\n",
    "        type=ff.Float32,\n",
    "        inference_store=redis,\n",
    "    )\n",
    "\n",
    "client.apply()"
   ]
  }
 ],
 "metadata": {
  "kernelspec": {
   "display_name": ".venv",
   "language": "python",
   "name": ".venv"
  },
  "language_info": {
   "codemirror_mode": {
    "name": "ipython",
    "version": 3
   },
   "file_extension": ".py",
   "mimetype": "text/x-python",
   "name": "python",
   "nbconvert_exporter": "python",
   "pygments_lexer": "ipython3",
   "version": "3.10.12"
  }
 },
 "nbformat": 4,
 "nbformat_minor": 5
}
